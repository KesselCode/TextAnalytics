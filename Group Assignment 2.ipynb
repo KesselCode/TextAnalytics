{
 "cells": [
  {
   "cell_type": "code",
   "execution_count": 48,
   "metadata": {
    "collapsed": false
   },
   "outputs": [],
   "source": [
    "import pandas as pd\n",
    "import numpy as np\n",
    "import matplotlib.pyplot as plt\n",
    "from sklearn.cross_validation import train_test_split\n",
    "from sklearn.ensemble import GradientBoostingClassifier as GBC\n",
    "from sklearn.metrics import confusion_matrix as conf_mat\n",
    "%matplotlib inline"
   ]
  },
  {
   "cell_type": "code",
   "execution_count": 6,
   "metadata": {
    "collapsed": false
   },
   "outputs": [],
   "source": [
    "df = pd.read_csv(\"C:\\\\Users\\\\Sean\\\\Desktop\\\\Fall 2016\\\\Text_Analytics\\\\Group Assignment 2\\\\Yelp Data Restaurant Reviews Ratings.csv\")"
   ]
  },
  {
   "cell_type": "code",
   "execution_count": 104,
   "metadata": {
    "collapsed": true
   },
   "outputs": [],
   "source": [
    "# Took reviews out of data frame\n",
    "df_no_rev = df[['stars', 'votes_cool', 'votes_funny', 'votes_useful', 'Cheap',\\\n",
    "                'Moderate', 'Expensive', 'VeryExpensive', 'American', 'Chinese',\\\n",
    "                'French', 'Japanese', 'Indian', 'Italian', 'Greek', 'Mediterranean',\\\n",
    "                'Mexican', 'Thai', 'Vietnamese', 'Others']]\n",
    "\n",
    "# Divide the dataframe into train and test sets\n",
    "train, test = train_test_split(df_no_rev, test_size = 0.4)\n",
    "\n",
    "# Divide train and test into X and Y\n",
    "train_X = train[['votes_cool', 'votes_funny', 'votes_useful', 'Cheap', 'Moderate',\\\n",
    "       'Expensive', 'VeryExpensive', 'American', 'Chinese', 'French',\\\n",
    "       'Japanese', 'Indian', 'Italian', 'Greek', 'Mediterranean',\\\n",
    "       'Mexican', 'Thai', 'Vietnamese', 'Others']]\n",
    "train_Y = train[['stars']]\n",
    "test_X = test[['votes_cool', 'votes_funny', 'votes_useful', 'Cheap', 'Moderate',\\\n",
    "       'Expensive', 'VeryExpensive', 'American', 'Chinese', 'French',\\\n",
    "       'Japanese', 'Indian', 'Italian', 'Greek', 'Mediterranean',\\\n",
    "       'Mexican', 'Thai', 'Vietnamese', 'Others']]\n",
    "test_Y = test[['stars']]\n",
    "\n",
    "# Turn dataframes into matrices \n",
    "train_Xmat = train_X.as_matrix()\n",
    "train_Ymat = train_Y.as_matrix()\n",
    "test_Xmat = test_X.as_matrix()\n",
    "test_Ymat = test_Y.as_matrix()"
   ]
  },
  {
   "cell_type": "code",
   "execution_count": 131,
   "metadata": {
    "collapsed": false
   },
   "outputs": [],
   "source": [
    "clf = GBC(loss='deviance', learning_rate=0.01, n_estimators=10000,\\\n",
    "          subsample=1.0, min_samples_split=2, min_samples_leaf=1,\\\n",
    "          min_weight_fraction_leaf=0.0, max_depth=4, init=None,\\\n",
    "          random_state=None, max_features=None, verbose=0,\\\n",
    "          max_leaf_nodes=None, warm_start=False, presort='auto')"
   ]
  },
  {
   "cell_type": "code",
   "execution_count": 132,
   "metadata": {
    "collapsed": false
   },
   "outputs": [
    {
     "name": "stderr",
     "output_type": "stream",
     "text": [
      "C:\\Users\\Sean\\AppData\\Local\\Continuum\\Anaconda2\\lib\\site-packages\\sklearn\\utils\\validation.py:515: DataConversionWarning: A column-vector y was passed when a 1d array was expected. Please change the shape of y to (n_samples, ), for example using ravel().\n",
      "  y = column_or_1d(y, warn=True)\n"
     ]
    },
    {
     "data": {
      "text/plain": [
       "GradientBoostingClassifier(init=None, learning_rate=0.01, loss='deviance',\n",
       "              max_depth=4, max_features=None, max_leaf_nodes=None,\n",
       "              min_samples_leaf=1, min_samples_split=2,\n",
       "              min_weight_fraction_leaf=0.0, n_estimators=10000,\n",
       "              presort='auto', random_state=None, subsample=1.0, verbose=0,\n",
       "              warm_start=False)"
      ]
     },
     "execution_count": 132,
     "metadata": {},
     "output_type": "execute_result"
    }
   ],
   "source": [
    "clf.fit(train_Xmat, train_Ymat)"
   ]
  },
  {
   "cell_type": "code",
   "execution_count": 270,
   "metadata": {
    "collapsed": false
   },
   "outputs": [],
   "source": [
    "def model_prediction_summary(Y_actual,Y_predicted,\\\n",
    "                             Y_actual2=None,Y_predicted2=None, \\\n",
    "                             labels = ['1','2','3','4','5'],\\\n",
    "                             title = 'In Sample',\n",
    "                             title2 = 'Out of Sample'):\n",
    "    \n",
    "    \"\"\"\n",
    "    Shows prediction accuracy as percent correct.\n",
    "    Plots a confusion matrix.\n",
    "    \"\"\"\n",
    "    \n",
    "    \n",
    "    if Y_actual2 == None and Y_predicted2 == None :\n",
    "        cm = conf_mat(Y_actual,Y_predicted)\n",
    "        correct = float(sum((pd.DataFrame(Y_actual)[0] == pd.Series(Y_predicted))*1))\n",
    "        total = float(len(pd.DataFrame(Y_actual)))\n",
    "        correct_rate = correct/total\n",
    "        \n",
    "        print int(correct), \"correct predictions, out of\", int(total)\n",
    "        print \"Correct ratio: \",round(correct_rate*100,2),\"%\"\n",
    "        labels = ['1','2','3','4','5']\n",
    "        plt.figure()\n",
    "        fig = plt.figure()\n",
    "        ax = fig.add_subplot(111)\n",
    "        cax = ax.matshow(cm)\n",
    "        plt.title(title)\n",
    "        fig.colorbar(cax)\n",
    "        ax.set_xticklabels([''] + labels)\n",
    "        ax.set_yticklabels([''] + labels)\n",
    "        plt.xlabel('Predicted')\n",
    "        plt.ylabel('True')\n",
    "        plt.show()\n",
    "    elif Y_actual2 != None and Y_predicted2 != None:\n",
    "\n",
    "        fig, ((ax1), (ax2)) = plt.subplots(nrows=2, ncols=1)\n",
    "        cm1 = conf_mat(Y_actual,Y_predicted)\n",
    "        cm2 = conf_mat(Y_actual2,Y_predicted2)\n",
    "        \n",
    "        fig = plt.figure(1)\n",
    "        fig.set_size_inches(8*1.5,6*1.5)\n",
    "        \n",
    "        cax1 = ax1.matshow(cm1)\n",
    "        ax1.set_title(title, y=1.2)\n",
    "        fig.colorbar(cax1, ax = ax1)\n",
    "        ax1.set_xticklabels([''] + labels)\n",
    "        ax1.set_yticklabels([''] + labels)\n",
    "        ax1.set_xlabel('Predicted')\n",
    "        ax1.set_ylabel('True')\n",
    "\n",
    "        cax2 = ax2.matshow(cm2)\n",
    "        ax2.set_title(title2, y=1.2)\n",
    "        fig.colorbar(cax2, ax = ax2)\n",
    "        ax2.set_xticklabels([''] + labels)\n",
    "        ax2.set_yticklabels([''] + labels)\n",
    "        ax2.set_xlabel('Predicted')\n",
    "        ax2.set_ylabel('True')\n",
    "        \n",
    "        plt.subplots_adjust(left=None, bottom=None, right=None, top=None,\\\n",
    "                            wspace=None,hspace=None)\n",
    "        \n",
    "        fig.tight_layout()\n",
    "        \n",
    "        plt.show()\n",
    "        \n",
    "        correct = float(sum((pd.DataFrame(Y_actual)[0] == pd.Series(Y_predicted))*1))\n",
    "        total = float(len(pd.DataFrame(Y_actual)))\n",
    "        correct_rate = correct/total\n",
    "        print\n",
    "        print\n",
    "        print \"In sample predictions:\"\n",
    "        print int(correct), \"correct predictions, out of\", int(total)\n",
    "        print \"Accuracy: \",round(correct_rate*100,2),\"%\"\n",
    "        print\n",
    "        print\n",
    "        correct2 = float(sum((pd.DataFrame(Y_actual2)[0] == pd.Series(Y_predicted2))*1))\n",
    "        total2 = float(len(pd.DataFrame(Y_actual2)))\n",
    "        correct_rate2 = correct2/total2\n",
    "        \n",
    "        print \"Out of sample predictions:\"\n",
    "        print int(correct2), \"correct predictions, out of\", int(total2)\n",
    "        print \"Accuracy: \",round(correct_rate2*100,2),\"%\"\n",
    "    else:\n",
    "        raise ValueError('You done screwed the pooch')"
   ]
  },
  {
   "cell_type": "code",
   "execution_count": 264,
   "metadata": {
    "collapsed": true
   },
   "outputs": [],
   "source": [
    "j = clf.predict(train_Xmat)\n",
    "k = clf.predict(test_Xmat)"
   ]
  },
  {
   "cell_type": "code",
   "execution_count": 265,
   "metadata": {
    "collapsed": true
   },
   "outputs": [],
   "source": [
    "cm2 = conf_mat(test_Ymat,k)"
   ]
  },
  {
   "cell_type": "code",
   "execution_count": 271,
   "metadata": {
    "collapsed": false
   },
   "outputs": [
    {
     "name": "stderr",
     "output_type": "stream",
     "text": [
      "C:\\Users\\Sean\\AppData\\Local\\Continuum\\Anaconda2\\lib\\site-packages\\ipykernel\\__main__.py:10: FutureWarning: comparison to `None` will result in an elementwise object comparison in the future.\n",
      "C:\\Users\\Sean\\AppData\\Local\\Continuum\\Anaconda2\\lib\\site-packages\\ipykernel\\__main__.py:30: FutureWarning: comparison to `None` will result in an elementwise object comparison in the future.\n"
     ]
    },
    {
     "data": {
      "image/png": "[encoded data removed]",
      "text/plain": [
       "<matplotlib.figure.Figure at 0x10f89630>"
      ]
     },
     "metadata": {},
     "output_type": "display_data"
    },
    {
     "name": "stdout",
     "output_type": "stream",
     "text": [
      "\n",
      "\n",
      "In sample predictions:\n",
      "5641 correct predictions, out of 11999\n",
      "Accuracy:  47.01 %\n",
      "\n",
      "\n",
      "Out of sample predictions:\n",
      "2884 correct predictions, out of 8000\n",
      "Accuracy:  36.05 %\n"
     ]
    }
   ],
   "source": [
    "model_prediction_summary(train_Ymat,j,\\\n",
    "                             test_Ymat,k, \\\n",
    "                             labels = ['1','2','3','4','5'],\\\n",
    "                             title = 'In Sample',\n",
    "                             title2 = 'Out of Sample')"
   ]
  }
 ],
 "metadata": {
  "kernelspec": {
   "display_name": "Python 2",
   "language": "python",
   "name": "python2"
  },
  "language_info": {
   "codemirror_mode": {
    "name": "ipython",
    "version": 2
   },
   "file_extension": ".py",
   "mimetype": "text/x-python",
   "name": "python",
   "nbconvert_exporter": "python",
   "pygments_lexer": "ipython2",
   "version": "2.7.12"
  }
 },
 "nbformat": 4,
 "nbformat_minor": 0
}
